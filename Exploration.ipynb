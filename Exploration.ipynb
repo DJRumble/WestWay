{
 "cells": [
  {
   "cell_type": "code",
   "execution_count": 728,
   "metadata": {
    "collapsed": false
   },
   "outputs": [
    {
     "name": "stdout",
     "output_type": "stream",
     "text": [
      "The autoreload extension is already loaded. To reload it, use:\n",
      "  %reload_ext autoreload\n"
     ]
    }
   ],
   "source": [
    "%load_ext autoreload\n",
    "%autoreload 2\n",
    "%matplotlib inline\n",
    "\n",
    "import matplotlib.pylab as plt\n",
    "from matplotlib import cm\n",
    "\n",
    "import pandas as pd\n",
    "import numpy as np\n",
    "import seaborn as sns"
   ]
  },
  {
   "cell_type": "markdown",
   "metadata": {},
   "source": [
    "#  Functions"
   ]
  },
  {
   "cell_type": "code",
   "execution_count": 957,
   "metadata": {
    "collapsed": false
   },
   "outputs": [],
   "source": [
    "def aggregate_course(df):\n",
    "    '''\n",
    "    This function cleans up the data for a given accreditation criteria.\n",
    "    Valuing completed coures as 1 and booked courses and 0.5. \n",
    "    Each course is weighted by the total number for that criteria and summed to give a fraction.\n",
    "    The DataFrame is then update.\n",
    "    '''\n",
    "    #replace categoricals with numeric values\n",
    "    df.replace('Complete',1.0,inplace=True)\n",
    "    df.replace('Booked',0.5,inplace=True)\n",
    "    df.fillna(0,inplace=True)\n",
    "    #Drop the 'unreleased column'\n",
    "    df.drop(df.columns[-1:],axis=1,inplace=True)\n",
    "\n",
    "    #wieghting\n",
    "    total_course_fraction = []\n",
    "    total_course_completion = []\n",
    "    l = len(df)\n",
    "    \n",
    "    for i in range(l):\n",
    "        course_completion = df.iloc[[i]].values[0][5:]\n",
    "        course_fraction = sum(map(lambda x: x/len(course_completion), course_completion))\n",
    "        total_course_fraction.append(course_fraction)\n",
    "        if course_fraction > 0.999:\n",
    "            total_course_completion.append(1)\n",
    "        else:\n",
    "            total_course_completion.append(0)\n",
    "\n",
    "    #Update Dataframe\n",
    "    df['Total fraction'] = pd.Series(total_course_fraction, index=df.index)\n",
    "    df['Total completion'] = pd.Series(total_course_completion, index=df.index)\n",
    "    \n",
    "    return df\n"
   ]
  },
  {
   "cell_type": "code",
   "execution_count": 919,
   "metadata": {
    "collapsed": true
   },
   "outputs": [],
   "source": [
    "def course_completion(dealers,criteria):\n",
    "    '''\n",
    "    Count people who completed the criteria and calculation a dealership completion fraction\n",
    "    \n",
    "    Calculate:\n",
    "    a) the number of people on the course, \n",
    "    b) number of completions on the course,\n",
    "    c) fraction of people who have completed across a dealer.\n",
    "    '''\n",
    "\n",
    "    total_completion_dict = {}\n",
    "    total_completion_results = []\n",
    "\n",
    "    for i in dealers:\n",
    "        people_total = 0\n",
    "        completed_total = 0\n",
    "        for j in criteria:\n",
    "            try:\n",
    "                dg = j.groupby('Code').get_group(i)\n",
    "                people = len(dg['Total completion'])\n",
    "                completed = len(dg.loc[dg['Total completion'] == 1.0])\n",
    "                completion_frac = round(float(completed)/float(people),2)\n",
    "            except:\n",
    "                people = 0\n",
    "                completed = 0\n",
    "                completion_frac = np.nan\n",
    "            \n",
    "            total_completion_results.append(completion_frac)\n",
    "            people_total = people_total + people\n",
    "            completed_total = completed_total + completed\n",
    "        \n",
    "        total_completion_results.append(round(np.nansum(float(completed_total))/np.nansum(float(people_total)),2))\n",
    "        total_completion_dict[i] = total_completion_results\n",
    "        total_completion_results = []\n",
    "\n",
    "    #Produce DataFrame with results    \n",
    "    df_completion = pd.DataFrame(data=total_completion_dict)\n",
    "    df_completion = df_completion.T\n",
    "    df_completion.columns=['MT','SC','SA','T','All']\n",
    "    return df_completion"
   ]
  },
  {
   "cell_type": "code",
   "execution_count": 920,
   "metadata": {
    "collapsed": true
   },
   "outputs": [],
   "source": [
    "def course_progress(dealers,criteria):\n",
    "    '''\n",
    "    Find the mean course completion fraction, per criteria, per dealership\n",
    "    \n",
    "    Calculates:\n",
    "    a) the mean completion fraction for staff of a given criteria, per dealership\n",
    "    b) the mean completion of all staff in a dealership\n",
    "    '''\n",
    "    mean_list = []\n",
    "    std_list = []\n",
    "    sum_list = []\n",
    "    mean_dict = {}\n",
    "    std_dict = {}\n",
    "    grand_mean_list = []\n",
    "\n",
    "    for i in dealers:\n",
    "        for j in criteria:\n",
    "            try:\n",
    "                dg = j.groupby('Code').get_group(i)\n",
    "                mean = round(np.mean(dg['Total fraction'].values),2)\n",
    "                std = round(np.std(dg['Total fraction'].values),2)\n",
    "                sums = np.nansum(dg['Total fraction'].values)\n",
    "                mean_list.append(mean)\n",
    "                std_list.append(std)\n",
    "                grand_mean_list.append(dg['Total fraction'].values)\n",
    "            except:\n",
    "                mean_list.append(np.nan)\n",
    "                std_list.append(np.nan)\n",
    "            \n",
    "        dealer_mean = np.nanmean(np.concatenate(grand_mean_list))\n",
    "        dealer_std = np.nanstd(np.concatenate(grand_mean_list))\n",
    "        mean_list.append(round(dealer_mean,2))\n",
    "        std_list.append(round(dealer_std,2))\n",
    "        sum_list.append(sums)\n",
    "        mean_dict[i] = mean_list\n",
    "        std_dict[i] = std_list\n",
    "        mean_list = []\n",
    "        std_list = []\n",
    "        grand_mean_list = []\n",
    "\n",
    "    df_progress = pd.DataFrame(data=mean_dict)\n",
    "    df_progress = df_progress.T\n",
    "    df_progress.columns=['MT','SC','SA','T','ALL']\n",
    "    \n",
    "    df_progress_std = pd.DataFrame(data=std_dict)\n",
    "    df_progress_std = df_progress_std.T\n",
    "    df_progress_std.columns=['MT','SC','SA','T','ALL']\n",
    "    return df_progress, df_progress_std"
   ]
  },
  {
   "cell_type": "markdown",
   "metadata": {},
   "source": [
    "# Load data"
   ]
  },
  {
   "cell_type": "code",
   "execution_count": 946,
   "metadata": {
    "collapsed": false
   },
   "outputs": [],
   "source": [
    "#Load staff data\n",
    "file_name = 'West_Way_Accreditation/20161207 FY16 West Way Accreditation Report.xlsx'\n",
    "\n",
    "xl_file = pd.ExcelFile(file_name)\n",
    "dfs = {sheet_name: xl_file.parse(sheet_name) \n",
    "          for sheet_name in xl_file.sheet_names}\n",
    "\n",
    "#Save DF for each course\n",
    "df_SC = dfs['SC Report']\n",
    "df_T = dfs['T Report']\n",
    "df_SA = dfs['SA Report']\n",
    "df_MT = dfs['MT Report']"
   ]
  },
  {
   "cell_type": "code",
   "execution_count": 947,
   "metadata": {
    "collapsed": false
   },
   "outputs": [],
   "source": [
    "#Load target data\n",
    "targets = 'West_Way_Accreditation/FY16 West Way Dealer Accreditation Targets.xlsx'\n",
    "\n",
    "xl_file = pd.ExcelFile(targets)\n",
    "dfs = {sheet_name: xl_file.parse(sheet_name) \n",
    "          for sheet_name in xl_file.sheet_names}\n",
    "\n",
    "#Save DF for each course\n",
    "df_targets = dfs['FY16 Targets']\n",
    "df_targets.fillna(0,inplace=True)"
   ]
  },
  {
   "cell_type": "markdown",
   "metadata": {},
   "source": [
    "# Clean/crop data"
   ]
  },
  {
   "cell_type": "code",
   "execution_count": 948,
   "metadata": {
    "collapsed": false
   },
   "outputs": [],
   "source": [
    "#Adjusting the headers \n",
    "df_SC.columns = df_SC.iloc[[4]].values[0]\n",
    "df_SC.drop(df_SC.index[0:5],inplace=True)\n",
    "\n",
    "#Adjusting the headers \n",
    "df_T.columns = df_T.iloc[[4]].values[0]\n",
    "df_T.drop(df_T.index[0:5],inplace=True)\n",
    "\n",
    "#Adjusting the headers \n",
    "df_SA.columns = df_SA.iloc[[4]].values[0]\n",
    "df_SA.drop(df_SA.index[0:5],inplace=True)\n",
    "\n",
    "#Adjusting the headers \n",
    "df_MT.columns = df_MT.iloc[[4]].values[0]\n",
    "df_MT.drop(df_MT.index[0:5],inplace=True)"
   ]
  },
  {
   "cell_type": "code",
   "execution_count": 949,
   "metadata": {
    "collapsed": false
   },
   "outputs": [],
   "source": [
    "#Drop common surplus headers\n",
    "surplus_headers_SC = df_SC.columns[5:13]\n",
    "surplus_headers_T = df_T.columns[5:11]\n",
    "surplus_headers_SA = df_SA.columns[5:12]\n",
    "surplus_headers_MT = df_MT.columns[5:12]\n",
    "\n",
    "df_SC.drop(surplus_headers_SC,1,inplace=True)\n",
    "df_T.drop(surplus_headers_T,1,inplace=True)\n",
    "df_SA.drop(surplus_headers_SA,1,inplace=True)\n",
    "df_MT.drop(surplus_headers_MT,1,inplace=True)"
   ]
  },
  {
   "cell_type": "code",
   "execution_count": 950,
   "metadata": {
    "collapsed": false
   },
   "outputs": [],
   "source": [
    "#Reduce to F2F only\n",
    "df_SC_F2F = df_SC.drop(df_SC.columns[12:25],1).drop(df_SC.drop(df_SC.columns[12:25],1).columns[15:],1)\n",
    "df_T_F2F = df_T.drop(df_T.columns[6:],1)\n",
    "df_SA_F2F = df_SA.drop(df_SA.columns[10:24],1).drop(df_SA.drop(df_SA.columns[10:24],1).columns[11:],1)\n",
    "df_MT_F2F = df_MT.drop(df_MT.columns[8:16],1).drop(df_MT.drop(df_MT.columns[8:16],1).columns[9:],1)"
   ]
  },
  {
   "cell_type": "code",
   "execution_count": 951,
   "metadata": {
    "collapsed": false
   },
   "outputs": [],
   "source": [
    "#Reduce to Initial only\n",
    "df_SC_init = df_SC[df_SC.columns[0:25]]\n",
    "df_T_init = df_T[df_T.columns[0:13]]\n",
    "df_SA_init = df_SA[df_SA.columns[0:24]]\n",
    "df_MT_init = df_MT[df_MT.columns[0:16]]"
   ]
  },
  {
   "cell_type": "code",
   "execution_count": 952,
   "metadata": {
    "collapsed": false
   },
   "outputs": [
    {
     "data": {
      "text/plain": [
       "Index([u'FY16 Sales Consultant Knowledge Retention Assessment (coming soon)'], dtype='object')"
      ]
     },
     "execution_count": 952,
     "metadata": {},
     "output_type": "execute_result"
    }
   ],
   "source": [
    "df_SC.columns[-1:]"
   ]
  },
  {
   "cell_type": "markdown",
   "metadata": {},
   "source": [
    "# Analysis"
   ]
  },
  {
   "cell_type": "code",
   "execution_count": 928,
   "metadata": {
    "collapsed": false
   },
   "outputs": [
    {
     "data": {
      "text/html": [
       "<div>\n",
       "<table border=\"1\" class=\"dataframe\">\n",
       "  <thead>\n",
       "    <tr style=\"text-align: right;\">\n",
       "      <th></th>\n",
       "      <th>Username</th>\n",
       "      <th>First Name</th>\n",
       "      <th>Last Name</th>\n",
       "      <th>Code</th>\n",
       "      <th>Dealership</th>\n",
       "      <th>Service Advisor Training Needs Analysis</th>\n",
       "      <th>Nissan Service 1</th>\n",
       "      <th>Nissan Service 2</th>\n",
       "      <th>Nissan Products and Systems</th>\n",
       "      <th>VCT: The Art of Communicating Value</th>\n",
       "      <th>...</th>\n",
       "      <th>Get the Most out of NP300 Navara Part 1: Power train</th>\n",
       "      <th>Get the most out of NP300 Navara Part 2: Chassis, Body &amp; Safety</th>\n",
       "      <th>Get the most out of NP300 Navara Part 3: Electrical</th>\n",
       "      <th>Quality: Mindfulness at Work</th>\n",
       "      <th>Quality: Service Appointment</th>\n",
       "      <th>Quality: Service Greeting and Consulting</th>\n",
       "      <th>Quality: Service Vehicle Delivery</th>\n",
       "      <th>Service NSSW: Customer Quality in Action</th>\n",
       "      <th>All New Micra Part 1</th>\n",
       "      <th>FY16 Service Advisor Knowledge Retention Assessment (Coming Soon)</th>\n",
       "    </tr>\n",
       "  </thead>\n",
       "  <tbody>\n",
       "    <tr>\n",
       "      <th>6</th>\n",
       "      <td>230407</td>\n",
       "      <td>Bhupendra</td>\n",
       "      <td>Patel</td>\n",
       "      <td>1877</td>\n",
       "      <td>1877 West Way Hanwell</td>\n",
       "      <td>Complete</td>\n",
       "      <td>Complete</td>\n",
       "      <td>Complete</td>\n",
       "      <td>Complete</td>\n",
       "      <td>Complete</td>\n",
       "      <td>...</td>\n",
       "      <td>Complete</td>\n",
       "      <td>Complete</td>\n",
       "      <td>Complete</td>\n",
       "      <td>0</td>\n",
       "      <td>Complete</td>\n",
       "      <td>Complete</td>\n",
       "      <td>Complete</td>\n",
       "      <td>Complete</td>\n",
       "      <td>Complete</td>\n",
       "      <td>NaN</td>\n",
       "    </tr>\n",
       "    <tr>\n",
       "      <th>8</th>\n",
       "      <td>231786</td>\n",
       "      <td>Zach</td>\n",
       "      <td>Smart</td>\n",
       "      <td>1877</td>\n",
       "      <td>1877 West Way Hanwell</td>\n",
       "      <td>Complete</td>\n",
       "      <td>Complete</td>\n",
       "      <td>Complete</td>\n",
       "      <td>Complete</td>\n",
       "      <td>Complete</td>\n",
       "      <td>...</td>\n",
       "      <td>Complete</td>\n",
       "      <td>Complete</td>\n",
       "      <td>Complete</td>\n",
       "      <td>Complete</td>\n",
       "      <td>Complete</td>\n",
       "      <td>Complete</td>\n",
       "      <td>Complete</td>\n",
       "      <td>Complete</td>\n",
       "      <td>Complete</td>\n",
       "      <td>NaN</td>\n",
       "    </tr>\n",
       "    <tr>\n",
       "      <th>18</th>\n",
       "      <td>225737</td>\n",
       "      <td>Vishram</td>\n",
       "      <td>Gami</td>\n",
       "      <td>1877</td>\n",
       "      <td>1877 West Way Hanwell</td>\n",
       "      <td>Complete</td>\n",
       "      <td>Complete</td>\n",
       "      <td>Complete</td>\n",
       "      <td>Complete</td>\n",
       "      <td>Complete</td>\n",
       "      <td>...</td>\n",
       "      <td>Complete</td>\n",
       "      <td>Complete</td>\n",
       "      <td>Complete</td>\n",
       "      <td>0</td>\n",
       "      <td>Complete</td>\n",
       "      <td>Complete</td>\n",
       "      <td>Complete</td>\n",
       "      <td>Complete</td>\n",
       "      <td>Complete</td>\n",
       "      <td>NaN</td>\n",
       "    </tr>\n",
       "  </tbody>\n",
       "</table>\n",
       "<p>3 rows × 37 columns</p>\n",
       "</div>"
      ],
      "text/plain": [
       "   Username First Name Last Name  Code            Dealership   \\\n",
       "6    230407  Bhupendra     Patel  1877  1877 West Way Hanwell   \n",
       "8    231786       Zach     Smart  1877  1877 West Way Hanwell   \n",
       "18   225737    Vishram      Gami  1877  1877 West Way Hanwell   \n",
       "\n",
       "   Service Advisor Training Needs Analysis Nissan Service 1 Nissan Service 2  \\\n",
       "6                                 Complete         Complete         Complete   \n",
       "8                                 Complete         Complete         Complete   \n",
       "18                                Complete         Complete         Complete   \n",
       "\n",
       "   Nissan Products and Systems  VCT: The Art of Communicating Value   \\\n",
       "6                      Complete                             Complete   \n",
       "8                      Complete                             Complete   \n",
       "18                     Complete                             Complete   \n",
       "\n",
       "                                  ...                                 \\\n",
       "6                                 ...                                  \n",
       "8                                 ...                                  \n",
       "18                                ...                                  \n",
       "\n",
       "   Get the Most out of NP300 Navara Part 1: Power train  \\\n",
       "6                                            Complete     \n",
       "8                                            Complete     \n",
       "18                                           Complete     \n",
       "\n",
       "   Get the most out of NP300 Navara Part 2: Chassis, Body & Safety   \\\n",
       "6                                            Complete                 \n",
       "8                                            Complete                 \n",
       "18                                           Complete                 \n",
       "\n",
       "   Get the most out of NP300 Navara Part 3: Electrical   \\\n",
       "6                                            Complete     \n",
       "8                                            Complete     \n",
       "18                                           Complete     \n",
       "\n",
       "   Quality: Mindfulness at Work  Quality: Service Appointment   \\\n",
       "6                              0                      Complete   \n",
       "8                       Complete                      Complete   \n",
       "18                             0                      Complete   \n",
       "\n",
       "   Quality: Service Greeting and Consulting Quality: Service Vehicle Delivery  \\\n",
       "6                                  Complete                          Complete   \n",
       "8                                  Complete                          Complete   \n",
       "18                                 Complete                          Complete   \n",
       "\n",
       "   Service NSSW: Customer Quality in Action  All New Micra Part 1   \\\n",
       "6                                   Complete              Complete   \n",
       "8                                   Complete              Complete   \n",
       "18                                  Complete              Complete   \n",
       "\n",
       "   FY16 Service Advisor Knowledge Retention Assessment (Coming Soon)  \n",
       "6                                                 NaN                 \n",
       "8                                                 NaN                 \n",
       "18                                                NaN                 \n",
       "\n",
       "[3 rows x 37 columns]"
      ]
     },
     "execution_count": 928,
     "metadata": {},
     "output_type": "execute_result"
    }
   ],
   "source": [
    "#df_SA.groupby('Code').get_group(1877)"
   ]
  },
  {
   "cell_type": "code",
   "execution_count": 958,
   "metadata": {
    "collapsed": false
   },
   "outputs": [],
   "source": [
    "#Full DataSet\n",
    "df_SC = aggregate_course(df_SC)\n",
    "df_T = aggregate_course(df_T)\n",
    "df_SA = aggregate_course(df_SA)\n",
    "df_MT = aggregate_course(df_MT)"
   ]
  },
  {
   "cell_type": "code",
   "execution_count": null,
   "metadata": {
    "collapsed": false
   },
   "outputs": [],
   "source": []
  },
  {
   "cell_type": "code",
   "execution_count": 960,
   "metadata": {
    "collapsed": false
   },
   "outputs": [],
   "source": [
    "#F2F\n",
    "df_SC_F2F = aggregate_course(df_SC_F2F)\n",
    "df_T_F2F = aggregate_course(df_T_F2F)\n",
    "df_SA_F2F = aggregate_course(df_SA_F2F)\n",
    "df_MT_F2F = aggregate_course(df_MT_F2F)"
   ]
  },
  {
   "cell_type": "code",
   "execution_count": 961,
   "metadata": {
    "collapsed": false
   },
   "outputs": [
    {
     "name": "stderr",
     "output_type": "stream",
     "text": [
      "C:\\Users\\Damian\\Anaconda2\\lib\\site-packages\\ipykernel\\__main__.py:9: SettingWithCopyWarning: \n",
      "A value is trying to be set on a copy of a slice from a DataFrame\n",
      "\n",
      "See the caveats in the documentation: http://pandas.pydata.org/pandas-docs/stable/indexing.html#indexing-view-versus-copy\n",
      "C:\\Users\\Damian\\Anaconda2\\lib\\site-packages\\ipykernel\\__main__.py:10: SettingWithCopyWarning: \n",
      "A value is trying to be set on a copy of a slice from a DataFrame\n",
      "\n",
      "See the caveats in the documentation: http://pandas.pydata.org/pandas-docs/stable/indexing.html#indexing-view-versus-copy\n",
      "C:\\Users\\Damian\\Anaconda2\\lib\\site-packages\\ipykernel\\__main__.py:13: SettingWithCopyWarning: \n",
      "A value is trying to be set on a copy of a slice from a DataFrame\n",
      "\n",
      "See the caveats in the documentation: http://pandas.pydata.org/pandas-docs/stable/indexing.html#indexing-view-versus-copy\n",
      "C:\\Users\\Damian\\Anaconda2\\lib\\site-packages\\ipykernel\\__main__.py:30: SettingWithCopyWarning: \n",
      "A value is trying to be set on a copy of a slice from a DataFrame.\n",
      "Try using .loc[row_indexer,col_indexer] = value instead\n",
      "\n",
      "See the caveats in the documentation: http://pandas.pydata.org/pandas-docs/stable/indexing.html#indexing-view-versus-copy\n",
      "C:\\Users\\Damian\\Anaconda2\\lib\\site-packages\\ipykernel\\__main__.py:31: SettingWithCopyWarning: \n",
      "A value is trying to be set on a copy of a slice from a DataFrame.\n",
      "Try using .loc[row_indexer,col_indexer] = value instead\n",
      "\n",
      "See the caveats in the documentation: http://pandas.pydata.org/pandas-docs/stable/indexing.html#indexing-view-versus-copy\n"
     ]
    }
   ],
   "source": [
    "#Initail DataSet\n",
    "df_SC_init = aggregate_course(df_SC_init)\n",
    "df_T_init = aggregate_course(df_T_init)\n",
    "df_SA_init = aggregate_course(df_SA_init)\n",
    "df_MT_init = aggregate_course(df_MT_init)"
   ]
  },
  {
   "cell_type": "code",
   "execution_count": 1021,
   "metadata": {
    "collapsed": false
   },
   "outputs": [],
   "source": [
    "#Deffine the list of dealers\n",
    "dealers = []\n",
    "for i in df_SC['Code'].unique():\n",
    "    dealers.append(i)\n",
    "    \n",
    "dealership_names = {1525:'Basingstoke',1533:'Southampton',1535:'Aldershot',\n",
    "                    1633:'Coventry',1650:'Birmingham',1651:'Stourbridge',\n",
    "                    1655:'Wolverhampton',1692:'Stockport',1693:'Rochdale',\n",
    "                    1694:'Oldham',1708:'Manchester',1877:'Hanwell',\n",
    "                    1878:'Mill Hill',1883:'Altrincham'}"
   ]
  },
  {
   "cell_type": "code",
   "execution_count": 963,
   "metadata": {
    "collapsed": false
   },
   "outputs": [],
   "source": [
    "#Deffine the criteria - 12 MONTHS\n",
    "criteria = [df_MT,df_SC,df_SA,df_T]\n",
    "df_completion = course_completion(dealers,criteria)\n",
    "df_progress, df_progress_std = course_progress(dealers,criteria_init)"
   ]
  },
  {
   "cell_type": "code",
   "execution_count": 964,
   "metadata": {
    "collapsed": false
   },
   "outputs": [],
   "source": [
    "#Deffine the criteria - F2F\n",
    "criteria_6 = [df_MT_6,df_SC_6,df_SA_6,df_T_6]\n",
    "df_completion_6 = course_completion(dealers,criteria_6)\n",
    "df_progress_6 = course_progress(dealers,criteria_6)"
   ]
  },
  {
   "cell_type": "code",
   "execution_count": 965,
   "metadata": {
    "collapsed": false
   },
   "outputs": [],
   "source": [
    "#Deffine the criteria - Initial criteria\n",
    "criteria_init = [df_MT_init,df_SC_init,df_SA_init,df_T_init]\n",
    "df_completion_init = course_completion(dealers,criteria_init)\n",
    "df_progress_init, df_progress_init_std = course_progress(dealers,criteria_init)"
   ]
  },
  {
   "cell_type": "code",
   "execution_count": 966,
   "metadata": {
    "collapsed": false
   },
   "outputs": [
    {
     "data": {
      "text/plain": [
       "MT      NaN\n",
       "SC     0.23\n",
       "SA     0.25\n",
       "T      0.17\n",
       "ALL    0.30\n",
       "Name: 1525, dtype: float64"
      ]
     },
     "execution_count": 966,
     "metadata": {},
     "output_type": "execute_result"
    }
   ],
   "source": [
    "df_progress_init_std.iloc[0]"
   ]
  },
  {
   "cell_type": "code",
   "execution_count": 709,
   "metadata": {
    "collapsed": false
   },
   "outputs": [
    {
     "data": {
      "text/plain": [
       "MT      NaN\n",
       "SC     0.81\n",
       "SA     0.65\n",
       "T      0.33\n",
       "ALL    0.59\n",
       "Name: 1525, dtype: float64"
      ]
     },
     "execution_count": 709,
     "metadata": {},
     "output_type": "execute_result"
    }
   ],
   "source": [
    "df_progress_init.iloc[0]"
   ]
  },
  {
   "cell_type": "code",
   "execution_count": 1027,
   "metadata": {
    "collapsed": false
   },
   "outputs": [
    {
     "data": {
      "image/png": "[encoded data removed]",
      "text/plain": [
       "<matplotlib.figure.Figure at 0x1146a390>"
      ]
     },
     "metadata": {},
     "output_type": "display_data"
    }
   ],
   "source": [
    "def PLOT_bar_chart(df_A,df_B,i):\n",
    "    '''\n",
    "    Plot the 4 criteria and combined scores for a dealership with a colour gradient\n",
    "    \n",
    "    '''   \n",
    "    plt.figure()\n",
    "\n",
    "    x = df_A.columns\n",
    "    y = map(lambda x:100.*x,df_A.iloc[i])\n",
    "    z = map(lambda x:100.*x,df_B.iloc[i])\n",
    "    \n",
    "    title = dealership_names[df_A.index[i]]\n",
    "    \n",
    "    plot = plt.scatter(z, z, c = z,vmin=0,vmax=100., cmap = 'RdYlBu')\n",
    "    plt.clf()\n",
    "    cb = plt.colorbar(plot)\n",
    "    cb.set_label('Staff completion (%)')\n",
    "    \n",
    "    plt.bar(np.arange(len(y)),y,color = cm.RdYlBu([i / 100. for i in z]))\n",
    "\n",
    "    plt.title('{}'.format(title))\n",
    "    plt.ylabel('Staff progress (%)')\n",
    "    plt.xlabel('Criteria')\n",
    "    \n",
    "    plt.xticks()\n",
    "    plt.xticks(np.arange(len(y))+0.35,x,rotation=60)\n",
    "\n",
    "    plt.show()\n",
    "    \n",
    "    return \n",
    "\n",
    "PLOT_bar_chart(df_progress,df_completion,5)"
   ]
  },
  {
   "cell_type": "code",
   "execution_count": 771,
   "metadata": {
    "collapsed": false
   },
   "outputs": [
    {
     "name": "stdout",
     "output_type": "stream",
     "text": [
      "MT     1.00\n",
      "SC     0.57\n",
      "SA     1.00\n",
      "T      1.00\n",
      "All    0.77\n",
      "Name: 1650, dtype: float64\n",
      "[[ 0.          1.          1.          1.        ]\n",
      " [ 0.00392157  0.99607843  1.          1.        ]]\n"
     ]
    }
   ],
   "source": [
    "z = df_completion_init.iloc[4]\n",
    "print z\n",
    "colors = cm.cool([0,1])\n",
    "print colors\n",
    "#plot = plt.scatter(z, z, c = z, cmap = 'cool')\n",
    "#plt.colorbar(plot)"
   ]
  },
  {
   "cell_type": "code",
   "execution_count": 971,
   "metadata": {
    "collapsed": false
   },
   "outputs": [
    {
     "data": {
      "image/png": "[encoded data removed]",
      "text/plain": [
       "<matplotlib.figure.Figure at 0xeec1400>"
      ]
     },
     "metadata": {},
     "output_type": "display_data"
    }
   ],
   "source": [
    "def PLOT_scatter_chart(df_A,df_Astd,df_B,i):\n",
    "    '''\n",
    "    Plot the 4 criteria and combined scores for a dealership with a colour gradient\n",
    "    \n",
    "    '''   \n",
    "    plt.figure()\n",
    "\n",
    "    x = df_A.columns\n",
    "    y = df_A.iloc[i]\n",
    "    s = df_Astd.iloc[i]\n",
    "    z = df_B.iloc[i]\n",
    "    #print y\n",
    "    #print z\n",
    "    \n",
    "    title = df_A.index[i]\n",
    "\n",
    "    plt.scatter(z[:-1], y[:-1], c = z[:-1], cmap = 'RdYlBu',vmin=0,vmax=1,s=[((i+0.1)*35)**3. for i in s])\n",
    "    plt.scatter(z[-1:], y[-1:], marker='*',s=250,color='k')\n",
    "    \n",
    "    labels = ['{}'.format(i) for i in x]\n",
    "    for label, posx, posy in zip(labels, z, y):\n",
    "        plt.annotate(\n",
    "            label,\n",
    "            xy=(posx, posy), xytext=(-20, 20),\n",
    "            textcoords='offset points', ha='right', va='bottom',\n",
    "            bbox=dict(boxstyle='round,pad=0.5', fc='w', alpha=0.5),\n",
    "            arrowprops=dict(arrowstyle = '->', connectionstyle='arc3,rad=0'))\n",
    "        \n",
    "    plt.title('{}'.format(title))\n",
    "    plt.ylabel('Staff progress')\n",
    "    plt.xlabel('Staff completion')\n",
    "    plt.axvline(x=0.7,color='k')\n",
    "    plt.xlim([-0.1,1.1])\n",
    "    plt.ylim([-0.1,1.1])\n",
    "\n",
    "    plt.show()\n",
    "    \n",
    "    return \n",
    "\n",
    "PLOT_scatter_chart(df_progress,df_progress_std,df_completion,5)"
   ]
  },
  {
   "cell_type": "code",
   "execution_count": 1023,
   "metadata": {
    "collapsed": false
   },
   "outputs": [
    {
     "data": {
      "image/png": "[encoded data removed]",
      "text/plain": [
       "<matplotlib.figure.Figure at 0x12721b70>"
      ]
     },
     "metadata": {},
     "output_type": "display_data"
    }
   ],
   "source": [
    "#Dealer overview plot\n",
    "\n",
    "def dealer_overview(df_A,df_B):\n",
    "    '''\n",
    "    produce a plot displaying the 'ALL' column for all dealers on a single plot.\n",
    "    '''\n",
    "    progress_dict = {}\n",
    "    completion_dict = {}\n",
    "    \n",
    "    for i in dealers:\n",
    "        progress_dict[dealership_names[i]] = df_A.ix[i][4]\n",
    "        completion_dict[dealership_names[i]] = df_B.ix[i][4]\n",
    "        \n",
    "    plt.figure()\n",
    "    \n",
    "    x = progress_dict.keys()\n",
    "    y = [i*100. for i in progress_dict.values()]\n",
    "    z = [i*100. for i in completion_dict.values()]\n",
    "    \n",
    "    #title = df_A.index[i]\n",
    "    \n",
    "    plot = plt.scatter(z, z, c = z,vmin=0,vmax=100, cmap = 'RdYlBu')\n",
    "    plt.clf()\n",
    "    cb = plt.colorbar(plot)\n",
    "    cb.set_label('Staff completion (%)')\n",
    "    \n",
    "    plt.bar(np.arange(len(y)),y,color = cm.RdYlBu([i / 100. for i in z]))\n",
    "    \n",
    "    #plt.title('{}'.format(title))\n",
    "    plt.ylabel('Staff progress (%)')\n",
    "    plt.xlabel('Dealership')\n",
    "    \n",
    "    plt.xticks()\n",
    "    plt.xticks(np.arange(len(y))+0.35,x,rotation=90)\n",
    "    \n",
    "    plt.show()   \n",
    "    \n",
    "    return\n",
    "\n",
    "dealer_overview(df_progress,df_completion)"
   ]
  },
  {
   "cell_type": "code",
   "execution_count": null,
   "metadata": {
    "collapsed": false
   },
   "outputs": [],
   "source": [
    "df_progress"
   ]
  },
  {
   "cell_type": "code",
   "execution_count": 1019,
   "metadata": {
    "collapsed": false
   },
   "outputs": [
    {
     "data": {
      "text/plain": [
       "[1525,\n",
       " 1692,\n",
       " 1655,\n",
       " 1633,\n",
       " 1708,\n",
       " 1694,\n",
       " 1877,\n",
       " 1693,\n",
       " 1535,\n",
       " 1878,\n",
       " 1650,\n",
       " 1883,\n",
       " 1533,\n",
       " 1651]"
      ]
     },
     "execution_count": 1019,
     "metadata": {},
     "output_type": "execute_result"
    }
   ],
   "source": [
    "dealers"
   ]
  },
  {
   "cell_type": "code",
   "execution_count": null,
   "metadata": {
    "collapsed": true
   },
   "outputs": [],
   "source": []
  }
 ],
 "metadata": {
  "anaconda-cloud": {},
  "kernelspec": {
   "display_name": "Python [Root]",
   "language": "python",
   "name": "Python [Root]"
  },
  "language_info": {
   "codemirror_mode": {
    "name": "ipython",
    "version": 2
   },
   "file_extension": ".py",
   "mimetype": "text/x-python",
   "name": "python",
   "nbconvert_exporter": "python",
   "pygments_lexer": "ipython2",
   "version": "2.7.12"
  }
 },
 "nbformat": 4,
 "nbformat_minor": 0
}
